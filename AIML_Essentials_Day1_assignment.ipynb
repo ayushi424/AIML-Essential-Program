{
  "nbformat": 4,
  "nbformat_minor": 0,
  "metadata": {
    "colab": {
      "name": "AIML_Essentials_Day1_assignment.ipynb",
      "provenance": []
    },
    "kernelspec": {
      "name": "python3",
      "display_name": "Python 3"
    },
    "language_info": {
      "name": "python"
    }
  },
  "cells": [
    {
      "cell_type": "markdown",
      "metadata": {
        "id": "XkaQpX-yn9pW"
      },
      "source": [
        " ### **LetsUpgrade | AIML Essentials | MAR 2021 B1**\n",
        "### Assignment 1 | 31st March 2021\n",
        "Submitted by: Ayushi Shrivastava\n"
      ]
    },
    {
      "cell_type": "markdown",
      "metadata": {
        "id": "CMYsqlmPokc_"
      },
      "source": [
        "Question 1\n",
        "Explain Machine Learning with your own example?"
      ]
    },
    {
      "cell_type": "markdown",
      "metadata": {
        "id": "dIP6GoW6o357"
      },
      "source": [
        "Ans. By its name we can simply say that machine learning is a technology in which machine learns through data and then uses its learning for futher process.\n",
        "\n",
        "For example machine learning is used for prediction.\n",
        "\n",
        "But how will it predict ?\n",
        "\n",
        "Machine learning is divided into 3 categories namely supervised, unsupervised and reinforcement ml algorithms and based on the problem statement we use appropriate ML algorithm to solve the problem.\n",
        "\n",
        "To predict the salary of an employee we use past data to train the ML model and then that model is used to predict the salary of the employee.\n",
        "Salary of employee depends on different features such as working hours, bonus, leaves, etc.\n",
        "\n",
        "Using the past data, we will first train the model that is the model will understand the data and learn from it and after the model is trained we will make our predictions.\n",
        "\n",
        "Not only predictions, but machine learning is used almost everywhere including medical sector, education sector, e-commerce sector, automobile sector etc.\n"
      ]
    }
  ]
}