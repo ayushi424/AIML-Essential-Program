{
  "nbformat": 4,
  "nbformat_minor": 0,
  "metadata": {
    "colab": {
      "name": "Assignment2.ipynb",
      "provenance": []
    },
    "kernelspec": {
      "name": "python3",
      "display_name": "Python 3"
    },
    "language_info": {
      "name": "python"
    }
  },
  "cells": [
    {
      "cell_type": "markdown",
      "metadata": {
        "id": "nTUZzfH1xUZF"
      },
      "source": [
        "### **LetsUpgrade | AIML Essentials | MAR 2021 B1**\n",
        "### Assignment 2 | 5th April 2021\n",
        "Submitted by: Ayushi Shrivastava"
      ]
    },
    {
      "cell_type": "markdown",
      "metadata": {
        "id": "ivTQj8gIyNzg"
      },
      "source": [
        "Question 1\n",
        "What is Deep Learning? Read about various activation functions."
      ]
    },
    {
      "cell_type": "markdown",
      "metadata": {
        "id": "GCRO_ApzyV6J"
      },
      "source": [
        "Ans.Deep learning is an artificial intelligence (AI) function that imitates the workings of the human brain in processing data and creating patterns for use in decision making.\n",
        "\n",
        " Deep learning is a subset of machine learning in artificial intelligence that has networks capable of learning unsupervised from data that is unstructured or unlabeled. Also known as deep neural learning or deep neural network.\n",
        "\n",
        " Deep learning AI is able to learn without human supervision, drawing from data that is both unstructured and unlabeled.\n",
        "\n",
        "Deep learning, a form of machine learning, can be used to help detect fraud or money laundering, among other functions.\n",
        "\n",
        "An activation function is used to map the input to the output. This activation function helps a neural network to learn complex relationships and patterns in data.\n",
        "\n",
        "Activation Functions-\n",
        "\n",
        "Sigmoid Function\n",
        "\n",
        "Softmax Function\n",
        "\n",
        "Hyperbolic Tangent(tanh)\n",
        "\n",
        "Relu\n",
        "\n",
        "Leaky Relu\n",
        "\n",
        "Swish\n",
        "\n",
        "Parameterized Relu\n",
        "\n",
        "ELU\n",
        "\n",
        "Softplus and Softsign\n",
        "\n",
        "Selu\n",
        "\n",
        "Gelu\n",
        "\n",
        "Linear Activation Function"
      ]
    },
    {
      "cell_type": "markdown",
      "metadata": {
        "id": "ZwvkoqFSyWS1"
      },
      "source": [
        "Question 2\n",
        "Difference between supervised and unsupervised with your own set of examples."
      ]
    },
    {
      "cell_type": "markdown",
      "metadata": {
        "id": "yTnMsmNwya9o"
      },
      "source": [
        "Ans.**Supervised machine learning**\n",
        "\n",
        "This is the type of machine learning where we train the model or provide labeled data to  model to make it understand the data.\n",
        "\n",
        "It includes classification and regression algorithms.\n",
        "\n",
        "For example:\n",
        "If we have to make predictions about the future growth of a business, we will firstly train the  ml model based on the past/historical data of that business.The  model will understand the growth pattern and then make predictions.\n",
        "\n",
        "**Unsupervised machine learning**\n",
        "This is the type of machine learning where no labelled data is given to the model,that is no supervison is provided.\n",
        "\n",
        "It uses deep learning to draw conclusions and pattern through data which is unlabeled.\n",
        "\n",
        "for example:\n",
        "Customer segmentation\n",
        "For this no labeled data is given to the model, it basically divides data into different customer groups which help in building business and marketing strategies."
      ]
    }
  ]
}